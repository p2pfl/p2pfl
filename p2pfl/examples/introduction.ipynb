{
 "cells": [
  {
   "cell_type": "markdown",
   "id": "0eb03615",
   "metadata": {},
   "source": [
    "<div align=\"center\">\n",
    "  <img src=\"../../other/logo.png\" width=\"400\"/>\n",
    "</div>\n"
   ]
  },
  {
   "cell_type": "markdown",
   "id": "7b55a8cc",
   "metadata": {},
   "source": [
    "<div style=\"text-align:center\">\n",
    "\n",
    "</h1>\n",
    "  <h3 style=\"color:#888; font-weight:normal; margin-top:0;\">A Hands-on Introduction</h3>\n",
    "</div>\n"
   ]
  },
  {
   "cell_type": "markdown",
   "id": "420860f7",
   "metadata": {},
   "source": [
    "<!-- Welcome message and intro, centered -->\n",
    "<div style=\"max-width:700px; margin:auto; font-size:1.2em; text-align:center; line-height:1.6;\">\n",
    "\n",
    "  <strong>Welcome to the <span style=\"\n",
    "    font-family:'Segoe UI', 'Arial Rounded MT Bold', 'Arial', sans-serif;\n",
    "    color:#2685FF; font-weight:800;\n",
    "    text-shadow:1px 2px 12px #b3d6ff;\">P2PFL</span> library!</strong>\n",
    "  <br><br>\n",
    "  This notebook provides a step-by-step guide of the library, from the foundational concepts to some more advanced features, preparing you to understand all knowledge required to design your own peer-to-peer federated learning experiments.\n",
    "</div>\n",
    "\n",
    "<!-- Index section, centered and neat -->\n",
    "<div style=\"max-width:520px; margin:36px auto 0 auto; text-align:center;\">\n",
    "  <div style=\"\n",
    "    font-size:2.1em;\n",
    "    font-weight:800;\n",
    "    background: linear-gradient(90deg,#339CFF 30%, #84C4FF 100%);\n",
    "    color: white;\n",
    "    letter-spacing:2px;\n",
    "    padding:8px 0 8px 0;\n",
    "    border-radius:18px;\n",
    "    box-shadow: 0 2px 18px 0 #b3d6ff77;\n",
    "    margin-bottom: 16px;\n",
    "    text-shadow:0 3px 18px #009cff44;\n",
    "    \">\n",
    "    🗂️  Index\n",
    "  </div>\n",
    "  <ol style=\"text-align:left; display:inline-block; margin:auto; font-size:1.09em; line-height:1.7;\">\n",
    "    <li><b>Basic concepts</b></li>\n",
    "    <li><b>Data Loading & partitioning</b></li>\n",
    "    <li><b>Creating models and nodes</b></li>\n",
    "    <li><b>Network topologies</b></li>\n",
    "    <li><b>Starting the learning process</b></li>\n",
    "    <li><b>Inspecting Local Metrics</b></li>\n",
    "    <li><b>Configuring your experiments</b></li>\n",
    "    <li><b>The P2PFL Architecture</b></li>\n",
    "    <li><b>Conclusions</b></li>\n",
    "  </ol>\n",
    "</div>\n",
    "\n",
    "\n"
   ]
  },
  {
   "cell_type": "markdown",
   "id": "819f0e83",
   "metadata": {},
   "source": [
    "# ⚙️ Setup "
   ]
  },
  {
   "cell_type": "markdown",
   "id": "ea89c8da",
   "metadata": {},
   "source": [
    "> **Before diving in, run these cells to set the stage. They handle the boring stuff to ensure your notebook is fully operational before you explore the first section.** "
   ]
  },
  {
   "cell_type": "code",
   "execution_count": 1,
   "id": "7fd78f0a",
   "metadata": {},
   "outputs": [],
   "source": [
    "import logging\n",
    "import os\n",
    "import sys\n",
    "os.environ[\"DISABLE_RAY\"] = \"1\"\n",
    "os.environ[\"TF_CPP_MIN_LOG_LEVEL\"] = \"3\" # quiet TensorFlow\n",
    "logging.getLogger().setLevel(logging.ERROR)\n",
    "logging.getLogger(\"p2pfl\").setLevel(logging.ERROR)\n",
    "logging.getLogger(\"ray\").setLevel(logging.ERROR)\n",
    "\n",
    "from p2pfl.settings import Settings\n",
    "Settings.general.DISABLE_RAY = True\n",
    "Settings.general.LOG_LEVEL   = \"INFO\""
   ]
  },
  {
   "cell_type": "code",
   "execution_count": 2,
   "id": "7f30a1df",
   "metadata": {},
   "outputs": [
    {
     "name": "stderr",
     "output_type": "stream",
     "text": [
      "/home/kirle/.cache/pypoetry/virtualenvs/p2pfl-kqHPkatk-py3.12/lib/python3.12/site-packages/tqdm/auto.py:21: TqdmWarning: IProgress not found. Please update jupyter and ipywidgets. See https://ipywidgets.readthedocs.io/en/stable/user_install.html\n",
      "  from .autonotebook import tqdm as notebook_tqdm\n",
      "WARNING: All log messages before absl::InitializeLog() is called are written to STDERR\n",
      "E0000 00:00:1752288689.449827 2061835 cuda_dnn.cc:8579] Unable to register cuDNN factory: Attempting to register factory for plugin cuDNN when one has already been registered\n",
      "E0000 00:00:1752288689.471027 2061835 cuda_blas.cc:1407] Unable to register cuBLAS factory: Attempting to register factory for plugin cuBLAS when one has already been registered\n",
      "W0000 00:00:1752288689.602905 2061835 computation_placer.cc:177] computation placer already registered. Please check linkage and avoid linking the same target more than once.\n",
      "W0000 00:00:1752288689.603007 2061835 computation_placer.cc:177] computation placer already registered. Please check linkage and avoid linking the same target more than once.\n",
      "W0000 00:00:1752288689.603018 2061835 computation_placer.cc:177] computation placer already registered. Please check linkage and avoid linking the same target more than once.\n",
      "W0000 00:00:1752288689.603027 2061835 computation_placer.cc:177] computation placer already registered. Please check linkage and avoid linking the same target more than once.\n"
     ]
    },
    {
     "name": "stdout",
     "output_type": "stream",
     "text": [
      "🥳 All libraries imported successfully!\n"
     ]
    }
   ],
   "source": [
    "# --- Plotting and data handling ---\n",
    "import matplotlib.pyplot as plt\n",
    "import numpy as np\n",
    "import time\n",
    "\n",
    "# --- Core p2pfl components ---\n",
    "from p2pfl.node import Node\n",
    "from p2pfl.learning.dataset.p2pfl_dataset import P2PFLDataset\n",
    "from p2pfl.management.logger import logger\n",
    "\n",
    "# --- Data Partitioning Strategies ---\n",
    "from p2pfl.learning.dataset.partition_strategies import (\n",
    "    RandomIIDPartitionStrategy,\n",
    "    DirichletPartitionStrategy,\n",
    "    LabelSkewedPartitionStrategy\n",
    ")\n",
    "\n",
    "# --- Model Aggregation Algorithms ---\n",
    "from p2pfl.learning.aggregators.fedavg import FedAvg\n",
    "from p2pfl.learning.aggregators.scaffold import Scaffold\n",
    "from p2pfl.learning.aggregators.fedprox import FedProx\n",
    "from p2pfl.learning.aggregators.fedmedian import FedMedian\n",
    "from p2pfl.learning.aggregators.krum import Krum\n",
    "\n",
    "# --- Communication and Topology ---\n",
    "from p2pfl.communication.protocols.protobuff.memory import MemoryCommunicationProtocol\n",
    "from p2pfl.utils.topologies import TopologyFactory, TopologyType\n",
    "\n",
    "# --- Utilities and Settings ---\n",
    "from p2pfl.utils.utils import set_standalone_settings, wait_convergence\n",
    "from p2pfl.settings import Settings\n",
    "\n",
    "# --- Model Definition ---\n",
    "import tensorflow as tf\n",
    "from tensorflow.keras.layers import Dense, Flatten\n",
    "from tensorflow.keras.losses import SparseCategoricalCrossentropy\n",
    "from tensorflow.keras.optimizers import Adam\n",
    "\n",
    "\n",
    "set_standalone_settings()\n",
    "print(\"🥳 All libraries imported successfully!\")"
   ]
  },
  {
   "cell_type": "code",
   "execution_count": 3,
   "id": "fda4da0c",
   "metadata": {},
   "outputs": [],
   "source": [
    "from p2pfl.management.logger import logger as _lg\n",
    "\n",
    "def reset_p2pfl():\n",
    "    # empty bus\n",
    "    import importlib, sys\n",
    "    for m in (\"p2pfl.communication.protocols.protobuff.memory.server\",\n",
    "              \"p2pfl.communication.protocols.protobuff.memory.client\"):\n",
    "        if m in sys.modules:\n",
    "            importlib.reload(sys.modules[m])\n",
    "    # empty logger\n",
    "    real = _lg\n",
    "    while hasattr(real, \"_p2pfl_logger\"):\n",
    "        real = real._p2pfl_logger\n",
    "    real.reset()"
   ]
  },
  {
   "cell_type": "markdown",
   "id": "e31cbac4",
   "metadata": {},
   "source": [
    "<h2 style=\"text-align:center; font-size:2em; margin-top:1em;\">1. 🧠 Basic Concepts of <span style=\"color:#007acc; font-family:cursive;\">P2PFL</span></h2>\n",
    "\n",
    "<p style=\"font-size:1.1em;\">\n",
    "Before jumping into code, let’s quickly review the core ideas behind <strong>P2P Federated Learning</strong> and how the <code>p2pfl</code> library brings them to life.\n",
    "</p>\n",
    "\n",
    "<hr style=\"margin-top:1em; margin-bottom:1em;\">\n",
    "\n",
    "<ul style=\"font-size:1.05em; line-height:1.6em;\">\n",
    "  <li><strong>🌐 Peer-to-Peer FL:</strong> Unlike centralized FL, there’s no server. Every node is equal, and communication is done directly via gossip protocols.</li>\n",
    "\n",
    "  <li><strong>🗣️ Gossip Protocols:</strong> Nodes share updates with a few neighbors each round, spreading information gradually.</li>\n",
    "\n",
    "  <li><strong>🧱 Node Abstraction:</strong> Each node bundles a model, local dataset, communication protocol, and aggregator — it’s an autonomous learner.</li>\n",
    "\n",
    "  <li><strong>⚖️ Aggregators:</strong> Combine local model updates. <code>FedAvg</code> is the classic choice, but custom strategies are also supported.</li>\n",
    "\n",
    "  <li><strong>🔌 Communication Protocols:</strong> Memory-based protocols for simulation, and eventually networked protocols for real-world use.</li>\n",
    "\n",
    "  <li><strong>🔁 Training Lifecycle:</strong> Initialize → Connect nodes → Train → Exchange updates → Converge. All peer-to-peer.</li>\n",
    "</ul>\n",
    "\n",
    "<hr style=\"margin-top:1em; margin-bottom:1em;\">\n",
    "\n",
    "<p style=\"font-size:1.1em; font-style:italic; text-align:center;\">\n",
    "Let's jump on how <span style=\"color:#007acc; font-family:cursive;\">P2PFL</span> handles this concepts in practice.</p>\n"
   ]
  },
  {
   "cell_type": "markdown",
   "id": "68f5705a",
   "metadata": {},
   "source": [
    "# <h2 style=\"text-align:center; font-size:2em; margin-top:1em;\"> 2. 📦 Data loading & Partitioning</h2>\n"
   ]
  },
  {
   "cell_type": "markdown",
   "id": "ec25b75f",
   "metadata": {},
   "source": [
    "Data handling is managed by the `P2PFLDataset`class. It acts as a high-level wrapper around datasets, integrating smoothly with sources like **Hugging Face**, and providing powerful methods for partitioning. "
   ]
  },
  {
   "cell_type": "markdown",
   "id": "11b442ea",
   "metadata": {},
   "source": [
    "Let's start creating a P2PFLDataset with the MNIST from huggingface."
   ]
  },
  {
   "cell_type": "code",
   "execution_count": 4,
   "id": "6f9c77ec",
   "metadata": {},
   "outputs": [],
   "source": [
    "dataset = P2PFLDataset.from_huggingface(dataset_name=\"p2pfl/MNIST\")\n",
    "dataset.set_batch_size(batch_size=128)"
   ]
  },
  {
   "cell_type": "markdown",
   "id": "285b5157",
   "metadata": {},
   "source": [
    "The way data is distributed among nodes is a critical factor in federated learning. **p2pfl** provides several strategies via the `generate_partitions()` method to simulate different scenarios. It expects the number of partitions (`num_partitions`) and the `strategy`. Currently supported strategies are:\n",
    "- **`RandomIIDPartitionStrategy` (IID):** Random, balanced split; each node gets similar data.\n",
    "- **`DirichletPartitionStrategy` (non-IID):** Flexible non-IID split; controls data skew with `alpha`.\n",
    "- **`LabelSkewedPartitionStrategy` (non-IID):** Extreme skew; nodes may get only a few classes."
   ]
  },
  {
   "cell_type": "code",
   "execution_count": 5,
   "id": "949a7185",
   "metadata": {},
   "outputs": [
    {
     "name": "stdout",
     "output_type": "stream",
     "text": [
      "Data partitioned for 2 nodes using RandomIIDPartitionStrategy .\n"
     ]
    }
   ],
   "source": [
    "NUM_NODES = 2 # number of nodes in our experiment\n",
    "\n",
    "iid_partitions = dataset.generate_partitions(\n",
    "    num_partitions=NUM_NODES,\n",
    "    strategy=RandomIIDPartitionStrategy\n",
    ")\n",
    "print(f\"Data partitioned for {NUM_NODES} nodes using RandomIIDPartitionStrategy .\")"
   ]
  },
  {
   "cell_type": "markdown",
   "id": "6c64003e",
   "metadata": {},
   "source": [
    "# <h2 style=\"text-align:center; font-size:2em; margin-top:1em;\"> 3. 🏗 Creating models and nodes</h2>\n"
   ]
  },
  {
   "cell_type": "markdown",
   "id": "438edf2e",
   "metadata": {},
   "source": [
    "![example-gif](../../other/anim1.gif)"
   ]
  },
  {
   "cell_type": "markdown",
   "id": "2f4e7d62",
   "metadata": {},
   "source": [
    "<p style=\"font-size:1.1em;\">\n",
    "Now we have the data partitioned and ready to be distributed among the number of nodes that we create. \n",
    "But before creating the nodes, we need to define the machine learning model to train with this data. \n",
    "<code>p2pfl</code> supports multiple ML frameworks, but for this example we will use \n",
    "<strong>\n",
    "  <img src=\"https://encrypted-tbn0.gstatic.com/images?q=tbn:ANd9GcRYBFK4zmyEZHnY7PXTGgGMz3wsPx4akIwWPA&s\" alt=\"Keras\" style=\"height:1.2em; vertical-align:middle; margin-left:4px;\">\n",
    "</strong>.\n",
    "</p>\n",
    "\n",
    "<p style=\"font-size:1.1em;\">\n",
    "Let's define a simple Multi-Layer Perceptron (MLP) with two hidden layers, designed to classify the 28x28 images from the MNIST dataset.\n",
    "</p>"
   ]
  },
  {
   "cell_type": "code",
   "execution_count": 6,
   "id": "55482139",
   "metadata": {},
   "outputs": [],
   "source": [
    "@tf.keras.utils.register_keras_serializable()\n",
    "class SimpleMLP(tf.keras.Model):\n",
    "    def __init__(self, num_classes=10, **kwargs):\n",
    "        super().__init__(**kwargs)\n",
    "        self.sequence = tf.keras.Sequential([\n",
    "            tf.keras.Input(shape=(28, 28, 1)),\n",
    "            Flatten(),\n",
    "            Dense(128, activation=\"relu\"),\n",
    "            Dense(64, activation=\"relu\"),\n",
    "            Dense(num_classes)\n",
    "        ])\n",
    "        self.loss = SparseCategoricalCrossentropy(from_logits=True)\n",
    "        self.optimizer = Adam(learning_rate=0.001)\n",
    "\n",
    "    def call(self, inputs):\n",
    "        return self.sequence(inputs)"
   ]
  },
  {
   "cell_type": "markdown",
   "id": "c7661ef9",
   "metadata": {},
   "source": [
    "Now for to use our model within the P2PFL framework, it's as easy as to use our `KerasModel` wrapper. "
   ]
  },
  {
   "cell_type": "code",
   "execution_count": 7,
   "id": "2002272d",
   "metadata": {},
   "outputs": [],
   "source": [
    "from p2pfl.learning.frameworks.tensorflow.keras_model import KerasModel\n",
    "\n",
    "mlp = SimpleMLP()\n",
    "mlp.build(input_shape=(128, 28, 28))\n",
    "\n",
    "my_model = KerasModel(model=mlp)"
   ]
  },
  {
   "cell_type": "markdown",
   "id": "45764bc9",
   "metadata": {},
   "source": [
    "As straightforward as it looks. With the data partitioned and the model created, we can create `Node`instances that will form our federated network. Each Node is an independent agent that holds its own data, model, and communication components.\n",
    "\n",
    "The `Node` class *constructor* expects:\n",
    "\n",
    "- `model`: The model to be trained.\n",
    "- `data`: The node's local data partition\n",
    "- `protocol`: How it will communicate with other nodes.\n",
    "- `aggregator`: How it will aggregate information received from other nodes.\n",
    "- `addr`: The unique address of the node."
   ]
  },
  {
   "cell_type": "code",
   "execution_count": 8,
   "id": "9e8c4552",
   "metadata": {},
   "outputs": [],
   "source": [
    "node1 = Node(\n",
    "    model = my_model,\n",
    "    data = iid_partitions[0],\n",
    "    protocol=MemoryCommunicationProtocol(),\n",
    "    addr=\"node-1\", # just a customizable string\n",
    "    aggregator=FedAvg()\n",
    ")"
   ]
  },
  {
   "cell_type": "markdown",
   "id": "8c7af92b",
   "metadata": {},
   "source": [
    "For this example we use the `MemoryCommunicationProtocol()` and the `FedAvg()` aggregator. We will see more about that later."
   ]
  },
  {
   "cell_type": "markdown",
   "id": "5da664bf",
   "metadata": {},
   "source": [
    "To start the node we've just created, we need to call the `start()` method. It will boot up the node's background services, primarily it's communication server, allowing it to listen for messages from other nodes. "
   ]
  },
  {
   "cell_type": "code",
   "execution_count": 9,
   "id": "adda5f58",
   "metadata": {},
   "outputs": [
    {
     "name": "stderr",
     "output_type": "stream",
     "text": [
      "\u001b[90m[ \u001b[93m2025-07-12 04:52:03 \u001b[90m| \u001b[96mnode-1 \u001b[90m| \u001b[92mINFO\u001b[0m\u001b[90m ]\u001b[0m InMemoryServer started at node-1\n",
      "\u001b[90m[ \u001b[93m2025-07-12 04:52:03 \u001b[90m| \u001b[96mnode-1 \u001b[90m| \u001b[92mINFO\u001b[0m\u001b[90m ]\u001b[0m 🏁 Starting gossiper...\n"
     ]
    }
   ],
   "source": [
    "node1.start()"
   ]
  },
  {
   "cell_type": "markdown",
   "id": "4870f593",
   "metadata": {},
   "source": [
    "Similarly, the `stop()` method stops all background processes."
   ]
  },
  {
   "cell_type": "markdown",
   "id": "93654dbc",
   "metadata": {},
   "source": [
    "Let's create a second node, start it, and connect it to our first one using the `connect()` method with the address of the node we want to connect."
   ]
  },
  {
   "cell_type": "code",
   "execution_count": 10,
   "id": "1279d375",
   "metadata": {},
   "outputs": [
    {
     "name": "stderr",
     "output_type": "stream",
     "text": [
      "\u001b[90m[ \u001b[93m2025-07-12 04:52:04 \u001b[90m| \u001b[96mnode-2 \u001b[90m| \u001b[92mINFO\u001b[0m\u001b[90m ]\u001b[0m InMemoryServer started at node-2\n",
      "\u001b[90m[ \u001b[93m2025-07-12 04:52:04 \u001b[90m| \u001b[96mnode-2 \u001b[90m| \u001b[92mINFO\u001b[0m\u001b[90m ]\u001b[0m 🏁 Starting gossiper...\n"
     ]
    },
    {
     "data": {
      "text/plain": [
       "True"
      ]
     },
     "execution_count": 10,
     "metadata": {},
     "output_type": "execute_result"
    }
   ],
   "source": [
    "node2 = Node(\n",
    "    model=my_model,\n",
    "    data=iid_partitions[1],\n",
    "    protocol=MemoryCommunicationProtocol(),\n",
    "    aggregator=FedAvg(),\n",
    "    addr=\"node-2\"\n",
    ")\n",
    "\n",
    "node2.start()\n",
    "node2.connect(addr=node1.addr)"
   ]
  },
  {
   "cell_type": "markdown",
   "id": "07a915a3",
   "metadata": {},
   "source": [
    "Nice! Now that we have our nodes connected, the nodes can start exchanching information. We can verify that they are peers using the `get_neighbors()` method. "
   ]
  },
  {
   "cell_type": "code",
   "execution_count": 11,
   "id": "0220628c",
   "metadata": {},
   "outputs": [
    {
     "name": "stderr",
     "output_type": "stream",
     "text": [
      "\u001b[90m[ \u001b[93m2025-07-12 04:52:06 \u001b[90m| \u001b[96mnode-1 \u001b[90m| \u001b[92mINFO\u001b[0m\u001b[90m ]\u001b[0m Stopping node...\n",
      "\u001b[90m[ \u001b[93m2025-07-12 04:52:06 \u001b[90m| \u001b[96mnode-1 \u001b[90m| \u001b[92mINFO\u001b[0m\u001b[90m ]\u001b[0m 🛑 Stopping gossiper...\n",
      "\u001b[90m[ \u001b[93m2025-07-12 04:52:06 \u001b[90m| \u001b[96mnode-1 \u001b[90m| \u001b[92mINFO\u001b[0m\u001b[90m ]\u001b[0m InMemoryServer stopped at node-1\n",
      "\u001b[90m[ \u001b[93m2025-07-12 04:52:06 \u001b[90m| \u001b[96mnode-2 \u001b[90m| \u001b[92mINFO\u001b[0m\u001b[90m ]\u001b[0m Stopping node...\n",
      "\u001b[90m[ \u001b[93m2025-07-12 04:52:06 \u001b[90m| \u001b[96mnode-2 \u001b[90m| \u001b[92mINFO\u001b[0m\u001b[90m ]\u001b[0m 🛑 Stopping gossiper...\n",
      "\u001b[90m[ \u001b[93m2025-07-12 04:52:07 \u001b[90m| \u001b[96mnode-2 \u001b[90m| \u001b[92mINFO\u001b[0m\u001b[90m ]\u001b[0m InMemoryServer stopped at node-2\n"
     ]
    },
    {
     "name": "stdout",
     "output_type": "stream",
     "text": [
      "Node-1 sees neighbors: ['node-2']\n",
      "Node-2 sees neighbors: ['node-1']\n",
      "Nodes stopped.\n"
     ]
    }
   ],
   "source": [
    "try:\n",
    "    node_1_neighbors = node1.get_neighbors()\n",
    "    node_2_neighbors = node2.get_neighbors()\n",
    "\n",
    "    print(f\"Node-1 sees neighbors: {list(node_1_neighbors.keys())}\")\n",
    "    print(f\"Node-2 sees neighbors: {list(node_2_neighbors.keys())}\")\n",
    "\n",
    "finally: # stop both nodes.\n",
    "    node1.stop()\n",
    "    node2.stop()\n",
    "    print(\"Nodes stopped.\")"
   ]
  },
  {
   "cell_type": "markdown",
   "id": "d8073725",
   "metadata": {},
   "source": [
    "# <h2 style=\"text-align:center; font-size:2em; margin-top:1em;\"> 4. 🌐 Network topologies</h2>\n",
    " "
   ]
  },
  {
   "cell_type": "markdown",
   "id": "550c5ff6",
   "metadata": {},
   "source": [
    "![example-gif](../../other/anim2.gif)"
   ]
  },
  {
   "cell_type": "markdown",
   "id": "313533ca",
   "metadata": {},
   "source": [
    "In our previous example, we connected two nodes directly. But with much more nodes, connecting them manually is impractical. This is where **network topologies** come in. A topology defines the pattern of connections between nodes. "
   ]
  },
  {
   "cell_type": "markdown",
   "id": "fac828e3",
   "metadata": {},
   "source": [
    "`p2pfl` provides a `TopologyFactory` to easily create standard network structures. The main types are:\n",
    "- **`RING`**: Each node connects to exactly two neighbors, forming a circle. Low communication cost, but information travels slowly.\n",
    "- **`STAR`**: A central node connects to all other nodes. Fast, but the center is a bottleneck.\n",
    "- **`FULL`**: Every node is connected to every other node. Fastest and most robust, but has a very high communication cost."
   ]
  },
  {
   "cell_type": "code",
   "execution_count": 12,
   "id": "8006bff4",
   "metadata": {},
   "outputs": [
    {
     "name": "stdout",
     "output_type": "stream",
     "text": [
      "Generated Adjacency Matrix for a 5-Node Ring:\n",
      "[[0 1 0 0 1]\n",
      " [1 0 1 0 0]\n",
      " [0 1 0 1 0]\n",
      " [0 0 1 0 1]\n",
      " [1 0 0 1 0]]\n"
     ]
    }
   ],
   "source": [
    "from p2pfl.utils.topologies import TopologyFactory, TopologyType\n",
    "\n",
    "N_NODES = 5\n",
    "ring_adj_matrix = TopologyFactory.generate_matrix(\n",
    "    topology_type=TopologyType.RING,\n",
    "    num_nodes=N_NODES\n",
    ")\n",
    "\n",
    "print(\"Generated Adjacency Matrix for a 5-Node Ring:\")\n",
    "print(ring_adj_matrix)"
   ]
  },
  {
   "cell_type": "markdown",
   "id": "9b4a2322",
   "metadata": {},
   "source": [
    "With this adjacency matrix, we can now automatically connect a list of nodes using the `TopologyFactory.connect_nodes()` method. This handles the entire connection process for us."
   ]
  },
  {
   "cell_type": "code",
   "execution_count": 13,
   "id": "67bf4efc",
   "metadata": {},
   "outputs": [],
   "source": [
    "# Helper function to quickly create multiple nodes\n",
    "def create_nodes(num_nodes, data_partitions):\n",
    "    nodes = []\n",
    "    for i in range(num_nodes):\n",
    "        model = KerasModel(SimpleMLP())\n",
    "        data = data_partitions[i]\n",
    "        node = Node(model=model, data=data, protocol=MemoryCommunicationProtocol(), aggregator=FedAvg(), addr=f\"node-{i}\")\n",
    "        nodes.append(node)\n",
    "    return nodes"
   ]
  },
  {
   "cell_type": "code",
   "execution_count": 14,
   "id": "013571b4",
   "metadata": {},
   "outputs": [
    {
     "name": "stderr",
     "output_type": "stream",
     "text": [
      "\u001b[90m[ \u001b[93m2025-07-12 04:52:12 \u001b[90m| \u001b[96mnode-0 \u001b[90m| \u001b[92mINFO\u001b[0m\u001b[90m ]\u001b[0m InMemoryServer started at node-0\n",
      "\u001b[90m[ \u001b[93m2025-07-12 04:52:12 \u001b[90m| \u001b[96mnode-0 \u001b[90m| \u001b[92mINFO\u001b[0m\u001b[90m ]\u001b[0m 🏁 Starting gossiper...\n",
      "\u001b[90m[ \u001b[93m2025-07-12 04:52:12 \u001b[90m| \u001b[96mnode-1_1 \u001b[90m| \u001b[92mINFO\u001b[0m\u001b[90m ]\u001b[0m InMemoryServer started at node-1_1\n",
      "\u001b[90m[ \u001b[93m2025-07-12 04:52:12 \u001b[90m| \u001b[96mnode-1_1 \u001b[90m| \u001b[92mINFO\u001b[0m\u001b[90m ]\u001b[0m 🏁 Starting gossiper...\n",
      "\u001b[90m[ \u001b[93m2025-07-12 04:52:12 \u001b[90m| \u001b[96mnode-2_1 \u001b[90m| \u001b[92mINFO\u001b[0m\u001b[90m ]\u001b[0m InMemoryServer started at node-2_1\n",
      "\u001b[90m[ \u001b[93m2025-07-12 04:52:12 \u001b[90m| \u001b[96mnode-2_1 \u001b[90m| \u001b[92mINFO\u001b[0m\u001b[90m ]\u001b[0m 🏁 Starting gossiper...\n",
      "\u001b[90m[ \u001b[93m2025-07-12 04:52:12 \u001b[90m| \u001b[96mnode-3 \u001b[90m| \u001b[92mINFO\u001b[0m\u001b[90m ]\u001b[0m InMemoryServer started at node-3\n",
      "\u001b[90m[ \u001b[93m2025-07-12 04:52:12 \u001b[90m| \u001b[96mnode-3 \u001b[90m| \u001b[92mINFO\u001b[0m\u001b[90m ]\u001b[0m 🏁 Starting gossiper...\n",
      "\u001b[90m[ \u001b[93m2025-07-12 04:52:12 \u001b[90m| \u001b[96mnode-4 \u001b[90m| \u001b[92mINFO\u001b[0m\u001b[90m ]\u001b[0m InMemoryServer started at node-4\n",
      "\u001b[90m[ \u001b[93m2025-07-12 04:52:12 \u001b[90m| \u001b[96mnode-4 \u001b[90m| \u001b[92mINFO\u001b[0m\u001b[90m ]\u001b[0m 🏁 Starting gossiper...\n"
     ]
    },
    {
     "name": "stdout",
     "output_type": "stream",
     "text": [
      "Starting all 5 nodes...\n",
      "Connecting nodes using the Ring Topology matrix...\n",
      "Connected nodes node-0 and node-1_1\n",
      "Connected nodes node-0 and node-4\n",
      "Connected nodes node-1_1 and node-2_1\n",
      "Connected nodes node-2_1 and node-3\n",
      "Connected nodes node-3 and node-4\n"
     ]
    },
    {
     "name": "stderr",
     "output_type": "stream",
     "text": [
      "\u001b[90m[ \u001b[93m2025-07-12 04:52:14 \u001b[90m| \u001b[96mnode-0 \u001b[90m| \u001b[92mINFO\u001b[0m\u001b[90m ]\u001b[0m Stopping node...\n",
      "\u001b[90m[ \u001b[93m2025-07-12 04:52:14 \u001b[90m| \u001b[96mnode-0 \u001b[90m| \u001b[92mINFO\u001b[0m\u001b[90m ]\u001b[0m 🛑 Stopping gossiper...\n",
      "\u001b[90m[ \u001b[93m2025-07-12 04:52:14 \u001b[90m| \u001b[96mnode-0 \u001b[90m| \u001b[92mINFO\u001b[0m\u001b[90m ]\u001b[0m InMemoryServer stopped at node-0\n",
      "\u001b[90m[ \u001b[93m2025-07-12 04:52:14 \u001b[90m| \u001b[96mnode-1_1 \u001b[90m| \u001b[92mINFO\u001b[0m\u001b[90m ]\u001b[0m Stopping node...\n",
      "\u001b[90m[ \u001b[93m2025-07-12 04:52:14 \u001b[90m| \u001b[96mnode-1_1 \u001b[90m| \u001b[92mINFO\u001b[0m\u001b[90m ]\u001b[0m 🛑 Stopping gossiper...\n",
      "\u001b[90m[ \u001b[93m2025-07-12 04:52:14 \u001b[90m| \u001b[96mnode-1_1 \u001b[90m| \u001b[92mINFO\u001b[0m\u001b[90m ]\u001b[0m InMemoryServer stopped at node-1_1\n",
      "\u001b[90m[ \u001b[93m2025-07-12 04:52:14 \u001b[90m| \u001b[96mnode-2_1 \u001b[90m| \u001b[92mINFO\u001b[0m\u001b[90m ]\u001b[0m Stopping node...\n",
      "\u001b[90m[ \u001b[93m2025-07-12 04:52:14 \u001b[90m| \u001b[96mnode-2_1 \u001b[90m| \u001b[92mINFO\u001b[0m\u001b[90m ]\u001b[0m 🛑 Stopping gossiper...\n",
      "\u001b[90m[ \u001b[93m2025-07-12 04:52:14 \u001b[90m| \u001b[96mnode-2_1 \u001b[90m| \u001b[92mINFO\u001b[0m\u001b[90m ]\u001b[0m InMemoryServer stopped at node-2_1\n",
      "\u001b[90m[ \u001b[93m2025-07-12 04:52:14 \u001b[90m| \u001b[96mnode-3 \u001b[90m| \u001b[92mINFO\u001b[0m\u001b[90m ]\u001b[0m Stopping node...\n",
      "\u001b[90m[ \u001b[93m2025-07-12 04:52:14 \u001b[90m| \u001b[96mnode-3 \u001b[90m| \u001b[92mINFO\u001b[0m\u001b[90m ]\u001b[0m 🛑 Stopping gossiper...\n",
      "\u001b[90m[ \u001b[93m2025-07-12 04:52:14 \u001b[90m| \u001b[96mnode-3 \u001b[90m| \u001b[92mINFO\u001b[0m\u001b[90m ]\u001b[0m InMemoryServer stopped at node-3\n",
      "\u001b[90m[ \u001b[93m2025-07-12 04:52:14 \u001b[90m| \u001b[96mnode-4 \u001b[90m| \u001b[92mINFO\u001b[0m\u001b[90m ]\u001b[0m Stopping node...\n",
      "\u001b[90m[ \u001b[93m2025-07-12 04:52:14 \u001b[90m| \u001b[96mnode-4 \u001b[90m| \u001b[92mINFO\u001b[0m\u001b[90m ]\u001b[0m 🛑 Stopping gossiper...\n",
      "\u001b[90m[ \u001b[93m2025-07-12 04:52:14 \u001b[90m| \u001b[96mnode-4 \u001b[90m| \u001b[92mINFO\u001b[0m\u001b[90m ]\u001b[0m InMemoryServer stopped at node-4\n"
     ]
    },
    {
     "name": "stdout",
     "output_type": "stream",
     "text": [
      "Verifying connections:\n",
      "Node-0's neighbors: ['node-1_1', 'node-4', 'node-2_1', 'node-3']\n",
      "Stopping all nodes...\n"
     ]
    }
   ],
   "source": [
    "# We need 5 data partitions for the 5 nodes\n",
    "partitions = dataset.generate_partitions(N_NODES, RandomIIDPartitionStrategy)\n",
    "nodes = create_nodes(N_NODES, partitions)\n",
    "\n",
    "try:\n",
    "    print(\"Starting all 5 nodes...\")\n",
    "    for node in nodes:\n",
    "        node.start()\n",
    "\n",
    "    print(\"Connecting nodes using the Ring Topology matrix...\")\n",
    "    TopologyFactory.connect_nodes(ring_adj_matrix, nodes)\n",
    "    time.sleep(1) # Allow time for connections\n",
    "\n",
    "    print(\"Verifying connections:\")\n",
    "    neighbors = nodes[0].get_neighbors()\n",
    "    print(f\"Node-0's neighbors: {list(neighbors.keys())}\")\n",
    "\n",
    "finally:\n",
    "    print(\"Stopping all nodes...\")\n",
    "    for node in nodes:\n",
    "        node.stop()"
   ]
  },
  {
   "cell_type": "markdown",
   "id": "c8c4db72",
   "metadata": {},
   "source": [
    "# <h2 style=\"text-align:center; font-size:2em; margin-top:1em;\"> 5. 🚀 Starting the Learning Process</h2>\n"
   ]
  },
  {
   "cell_type": "markdown",
   "id": "adcf4d2d",
   "metadata": {},
   "source": [
    "We have created nodes, started them, and connected them into a network. Now it's time for the **training**.\n",
    "\n",
    "The learning process is initiated by calling the `set_start_learning(rounds, epochs)` method on any single node in the network. \n",
    "- `rounds` : is the number of rounds, in each, nodes train, exchange models and aggregate them.\n",
    "- `epochs`: is the number of times each node will train in a single round\n",
    " \n",
    "The node that starts the learning process will then broadcast a command to all its peers, and the federated training will begin across the entire topology.\n",
    "For the next example, we will generate a **RING** topology with three nodes and train them on the MNIST dataset using a **RandomIIDPartitionStrategy**."
   ]
  },
  {
   "cell_type": "markdown",
   "id": "a1d03c6e",
   "metadata": {},
   "source": [
    "For this example, two new and very useful functions are used. First is `wait_convergence()`, that pauses the execution until all nodes have discovered the required number of neighbors (`n_neis` parameter) in the network. Second, `wait_to_finish()`, that waits until all nodes have completed their federated learning workflows or a timeout is reached. "
   ]
  },
  {
   "cell_type": "markdown",
   "id": "32e85ee1",
   "metadata": {},
   "source": [
    "> **Note**: The function `set_standalone_settings()` pre-configures the internal timeouts, heartbeat, gossip, and logging settings for small-scale or local experiments."
   ]
  },
  {
   "cell_type": "code",
   "execution_count": 16,
   "id": "79b85d8f",
   "metadata": {},
   "outputs": [
    {
     "name": "stderr",
     "output_type": "stream",
     "text": [
      "\u001b[90m[ \u001b[93m2025-07-12 01:06:02 \u001b[90m| \u001b[96mSYSTEM \u001b[90m| \u001b[92mINFO\u001b[0m\u001b[90m ]\u001b[0m Logger state reset for new experiment\n",
      "\u001b[90m[ \u001b[93m2025-07-12 01:06:02 \u001b[90m| \u001b[96mnode1 \u001b[90m| \u001b[92mINFO\u001b[0m\u001b[90m ]\u001b[0m InMemoryServer started at node1\n",
      "\u001b[90m[ \u001b[93m2025-07-12 01:06:02 \u001b[90m| \u001b[96mnode1 \u001b[90m| \u001b[92mINFO\u001b[0m\u001b[90m ]\u001b[0m 🏁 Starting gossiper...\n",
      "\u001b[90m[ \u001b[93m2025-07-12 01:06:02 \u001b[90m| \u001b[96mnode2 \u001b[90m| \u001b[92mINFO\u001b[0m\u001b[90m ]\u001b[0m InMemoryServer started at node2\n",
      "\u001b[90m[ \u001b[93m2025-07-12 01:06:02 \u001b[90m| \u001b[96mnode2 \u001b[90m| \u001b[92mINFO\u001b[0m\u001b[90m ]\u001b[0m 🏁 Starting gossiper...\n",
      "\u001b[90m[ \u001b[93m2025-07-12 01:06:02 \u001b[90m| \u001b[96mnode3 \u001b[90m| \u001b[92mINFO\u001b[0m\u001b[90m ]\u001b[0m InMemoryServer started at node3\n",
      "\u001b[90m[ \u001b[93m2025-07-12 01:06:02 \u001b[90m| \u001b[96mnode3 \u001b[90m| \u001b[92mINFO\u001b[0m\u001b[90m ]\u001b[0m 🏁 Starting gossiper...\n"
     ]
    },
    {
     "name": "stdout",
     "output_type": "stream",
     "text": [
      "Connected nodes node1 and node2\n",
      "Connected nodes node1 and node3\n",
      "Connected nodes node2 and node3\n"
     ]
    },
    {
     "name": "stderr",
     "output_type": "stream",
     "text": [
      "\u001b[90m[ \u001b[93m2025-07-12 01:06:02 \u001b[90m| \u001b[96mnode1 \u001b[90m| \u001b[92mINFO\u001b[0m\u001b[90m ]\u001b[0m 🚀 Broadcasting start learning...\n",
      "\u001b[90m[ \u001b[93m2025-07-12 01:06:02 \u001b[90m| \u001b[96mnode2 \u001b[90m| \u001b[92mINFO\u001b[0m\u001b[90m ]\u001b[0m ⏳ Waiting initialization.\n",
      "\u001b[90m[ \u001b[93m2025-07-12 01:06:02 \u001b[90m| \u001b[96mnode3 \u001b[90m| \u001b[92mINFO\u001b[0m\u001b[90m ]\u001b[0m ⏳ Waiting initialization.\n",
      "\u001b[90m[ \u001b[93m2025-07-12 01:06:02 \u001b[90m| \u001b[96mnode1 \u001b[90m| \u001b[92mINFO\u001b[0m\u001b[90m ]\u001b[0m ⏳ Waiting initialization.\n",
      "\u001b[90m[ \u001b[93m2025-07-12 01:06:02 \u001b[90m| \u001b[96mnode1 \u001b[90m| \u001b[92mINFO\u001b[0m\u001b[90m ]\u001b[0m 🗣️ Gossiping model initialization.\n",
      "\u001b[90m[ \u001b[93m2025-07-12 01:06:03 \u001b[90m| \u001b[96mnode2 \u001b[90m| \u001b[92mINFO\u001b[0m\u001b[90m ]\u001b[0m 🤖 Model Weights Initialized\n",
      "\u001b[90m[ \u001b[93m2025-07-12 01:06:03 \u001b[90m| \u001b[96mnode2 \u001b[90m| \u001b[92mINFO\u001b[0m\u001b[90m ]\u001b[0m 🗣️ Gossiping model initialization.\n",
      "\u001b[90m[ \u001b[93m2025-07-12 01:06:03 \u001b[90m| \u001b[96mnode3 \u001b[90m| \u001b[92mINFO\u001b[0m\u001b[90m ]\u001b[0m 🤖 Model Weights Initialized\n",
      "\u001b[90m[ \u001b[93m2025-07-12 01:06:03 \u001b[90m| \u001b[96mnode3 \u001b[90m| \u001b[92mINFO\u001b[0m\u001b[90m ]\u001b[0m 🗣️ Gossiping model initialization.\n",
      "\u001b[90m[ \u001b[93m2025-07-12 01:06:04 \u001b[90m| \u001b[96mnode2 \u001b[90m| \u001b[92mINFO\u001b[0m\u001b[90m ]\u001b[0m 🤫 Gossip finished.\n",
      "\u001b[90m[ \u001b[93m2025-07-12 01:06:04 \u001b[90m| \u001b[96mnode2 \u001b[90m| \u001b[92mINFO\u001b[0m\u001b[90m ]\u001b[0m 🗳️ Sending train set vote.\n",
      "\u001b[90m[ \u001b[93m2025-07-12 01:06:04 \u001b[90m| \u001b[96mnode3 \u001b[90m| \u001b[92mINFO\u001b[0m\u001b[90m ]\u001b[0m 🤫 Gossip finished.\n",
      "\u001b[90m[ \u001b[93m2025-07-12 01:06:04 \u001b[90m| \u001b[96mnode3 \u001b[90m| \u001b[92mINFO\u001b[0m\u001b[90m ]\u001b[0m 🗳️ Sending train set vote.\n",
      "\u001b[90m[ \u001b[93m2025-07-12 01:06:05 \u001b[90m| \u001b[96mnode1 \u001b[90m| \u001b[92mINFO\u001b[0m\u001b[90m ]\u001b[0m 🤫 Gossip finished.\n",
      "\u001b[90m[ \u001b[93m2025-07-12 01:06:05 \u001b[90m| \u001b[96mnode1 \u001b[90m| \u001b[92mINFO\u001b[0m\u001b[90m ]\u001b[0m 🗳️ Sending train set vote.\n",
      "\u001b[90m[ \u001b[93m2025-07-12 01:06:05 \u001b[90m| \u001b[96mnode1 \u001b[90m| \u001b[92mINFO\u001b[0m\u001b[90m ]\u001b[0m 🔢 Computed 3 votes.\n",
      "\u001b[90m[ \u001b[93m2025-07-12 01:06:05 \u001b[90m| \u001b[96mnode2 \u001b[90m| \u001b[92mINFO\u001b[0m\u001b[90m ]\u001b[0m 🔢 Computed 3 votes.\n",
      "\u001b[90m[ \u001b[93m2025-07-12 01:06:05 \u001b[90m| \u001b[96mnode3 \u001b[90m| \u001b[92mINFO\u001b[0m\u001b[90m ]\u001b[0m 🔢 Computed 3 votes.\n",
      "\u001b[90m[ \u001b[93m2025-07-12 01:06:05 \u001b[90m| \u001b[96mnode1 \u001b[90m| \u001b[92mINFO\u001b[0m\u001b[90m ]\u001b[0m 🚂 Train set of 3 nodes: ['node2', 'node3', 'node1']\n",
      "\u001b[90m[ \u001b[93m2025-07-12 01:06:05 \u001b[90m| \u001b[96mnode2 \u001b[90m| \u001b[92mINFO\u001b[0m\u001b[90m ]\u001b[0m 🚂 Train set of 3 nodes: ['node2', 'node3', 'node1']\n",
      "\u001b[90m[ \u001b[93m2025-07-12 01:06:05 \u001b[90m| \u001b[96mnode3 \u001b[90m| \u001b[92mINFO\u001b[0m\u001b[90m ]\u001b[0m 🚂 Train set of 3 nodes: ['node2', 'node3', 'node1']\n",
      "\u001b[90m[ \u001b[93m2025-07-12 01:06:05 \u001b[90m| \u001b[96mnode1 \u001b[90m| \u001b[92mINFO\u001b[0m\u001b[90m ]\u001b[0m 🔬 Evaluating...\n",
      "\u001b[90m[ \u001b[93m2025-07-12 01:06:05 \u001b[90m| \u001b[96mnode2 \u001b[90m| \u001b[92mINFO\u001b[0m\u001b[90m ]\u001b[0m 🔬 Evaluating...\n",
      "/home/kirle/.cache/pypoetry/virtualenvs/p2pfl-C2Oq_tWy-py3.12/lib/python3.12/site-packages/datasets/arrow_dataset.py:399: FutureWarning: The output of `to_tf_dataset` will change when a passing single element list for `labels` or `columns` in the next datasets version. To return a tuple structure rather than dict, pass a single string.\n",
      "Old behaviour: columns=['a'], labels=['labels'] -> (tf.Tensor, tf.Tensor)  \n",
      "             : columns='a', labels='labels' -> (tf.Tensor, tf.Tensor)  \n",
      "New behaviour: columns=['a'],labels=['labels'] -> ({'a': tf.Tensor}, {'labels': tf.Tensor})  \n",
      "             : columns='a', labels='labels' -> (tf.Tensor, tf.Tensor) \n",
      "  warnings.warn(\n",
      "\u001b[90m[ \u001b[93m2025-07-12 01:06:05 \u001b[90m| \u001b[96mnode3 \u001b[90m| \u001b[92mINFO\u001b[0m\u001b[90m ]\u001b[0m 🔬 Evaluating...\n",
      "\u001b[90m[ \u001b[93m2025-07-12 01:06:10 \u001b[90m| \u001b[96mnode1 \u001b[90m| \u001b[92mINFO\u001b[0m\u001b[90m ]\u001b[0m 📈 Evaluated. Results: {'loss': 186.60946655273438, 'compile_metrics': 0.11007798463106155}\n",
      "\u001b[90m[ \u001b[93m2025-07-12 01:06:10 \u001b[90m| \u001b[96mnode1 \u001b[90m| \u001b[92mINFO\u001b[0m\u001b[90m ]\u001b[0m 📢 Broadcasting metrics.\n",
      "\u001b[90m[ \u001b[93m2025-07-12 01:06:10 \u001b[90m| \u001b[96mnode1 \u001b[90m| \u001b[92mINFO\u001b[0m\u001b[90m ]\u001b[0m 🏋️‍♀️ Training...\n",
      "\u001b[90m[ \u001b[93m2025-07-12 01:06:10 \u001b[90m| \u001b[96mnode3 \u001b[90m| \u001b[92mINFO\u001b[0m\u001b[90m ]\u001b[0m 📈 Evaluated. Results: {'loss': 187.85975646972656, 'compile_metrics': 0.11281128227710724}\n",
      "\u001b[90m[ \u001b[93m2025-07-12 01:06:10 \u001b[90m| \u001b[96mnode3 \u001b[90m| \u001b[92mINFO\u001b[0m\u001b[90m ]\u001b[0m 📢 Broadcasting metrics.\n",
      "\u001b[90m[ \u001b[93m2025-07-12 01:06:10 \u001b[90m| \u001b[96mnode3 \u001b[90m| \u001b[92mINFO\u001b[0m\u001b[90m ]\u001b[0m 🏋️‍♀️ Training...\n",
      "\u001b[90m[ \u001b[93m2025-07-12 01:06:11 \u001b[90m| \u001b[96mnode2 \u001b[90m| \u001b[92mINFO\u001b[0m\u001b[90m ]\u001b[0m 📈 Evaluated. Results: {'loss': 191.8650360107422, 'compile_metrics': 0.09720972180366516}\n",
      "\u001b[90m[ \u001b[93m2025-07-12 01:06:11 \u001b[90m| \u001b[96mnode2 \u001b[90m| \u001b[92mINFO\u001b[0m\u001b[90m ]\u001b[0m 📢 Broadcasting metrics.\n",
      "\u001b[90m[ \u001b[93m2025-07-12 01:06:11 \u001b[90m| \u001b[96mnode2 \u001b[90m| \u001b[92mINFO\u001b[0m\u001b[90m ]\u001b[0m 🏋️‍♀️ Training...\n"
     ]
    },
    {
     "name": "stdout",
     "output_type": "stream",
     "text": [
      "\u001b[1m157/157\u001b[0m \u001b[32m━━━━━━━━━━━━━━━━━━━━\u001b[0m\u001b[37m\u001b[0m \u001b[1m25s\u001b[0m 137ms/step - loss: 21.5843 - sparse_categorical_accuracy: 0.6075\n"
     ]
    },
    {
     "name": "stderr",
     "output_type": "stream",
     "text": [
      "\u001b[90m[ \u001b[93m2025-07-12 01:06:35 \u001b[90m| \u001b[96mnode1 \u001b[90m| \u001b[92mINFO\u001b[0m\u001b[90m ]\u001b[0m 🎓 Training done.\n",
      "\u001b[90m[ \u001b[93m2025-07-12 01:06:35 \u001b[90m| \u001b[96mnode1 \u001b[90m| \u001b[92mINFO\u001b[0m\u001b[90m ]\u001b[0m 🧩 Model added (1/3) from ['node1']\n"
     ]
    },
    {
     "name": "stdout",
     "output_type": "stream",
     "text": [
      "\u001b[1m157/157\u001b[0m \u001b[32m━━━━━━━━━━━━━━━━━━━━\u001b[0m\u001b[37m\u001b[0m \u001b[1m25s\u001b[0m 139ms/step - loss: 22.3086 - sparse_categorical_accuracy: 0.5967\n"
     ]
    },
    {
     "name": "stderr",
     "output_type": "stream",
     "text": [
      "\u001b[90m[ \u001b[93m2025-07-12 01:06:36 \u001b[90m| \u001b[96mnode3 \u001b[90m| \u001b[92mINFO\u001b[0m\u001b[90m ]\u001b[0m 🎓 Training done.\n",
      "\u001b[90m[ \u001b[93m2025-07-12 01:06:36 \u001b[90m| \u001b[96mnode3 \u001b[90m| \u001b[92mINFO\u001b[0m\u001b[90m ]\u001b[0m 🧩 Model added (1/3) from ['node3']\n"
     ]
    },
    {
     "name": "stdout",
     "output_type": "stream",
     "text": [
      "\u001b[1m157/157\u001b[0m \u001b[32m━━━━━━━━━━━━━━━━━━━━\u001b[0m\u001b[37m\u001b[0m \u001b[1m25s\u001b[0m 140ms/step - loss: 22.4478 - sparse_categorical_accuracy: 0.6123\n"
     ]
    },
    {
     "name": "stderr",
     "output_type": "stream",
     "text": [
      "\u001b[90m[ \u001b[93m2025-07-12 01:06:36 \u001b[90m| \u001b[96mnode2 \u001b[90m| \u001b[92mINFO\u001b[0m\u001b[90m ]\u001b[0m 🎓 Training done.\n",
      "\u001b[90m[ \u001b[93m2025-07-12 01:06:36 \u001b[90m| \u001b[96mnode2 \u001b[90m| \u001b[92mINFO\u001b[0m\u001b[90m ]\u001b[0m 🧩 Model added (1/3) from ['node2']\n",
      "\u001b[90m[ \u001b[93m2025-07-12 01:06:36 \u001b[90m| \u001b[96mnode2 \u001b[90m| \u001b[92mINFO\u001b[0m\u001b[90m ]\u001b[0m 🧩 Model added (2/3) from ['node1']\n",
      "\u001b[90m[ \u001b[93m2025-07-12 01:06:37 \u001b[90m| \u001b[96mnode1 \u001b[90m| \u001b[92mINFO\u001b[0m\u001b[90m ]\u001b[0m 🧩 Model added (2/3) from ['node3']\n",
      "\u001b[90m[ \u001b[93m2025-07-12 01:06:37 \u001b[90m| \u001b[96mnode1 \u001b[90m| \u001b[92mINFO\u001b[0m\u001b[90m ]\u001b[0m 🧩 Model added (3/3) from ['node2']\n",
      "\u001b[90m[ \u001b[93m2025-07-12 01:06:38 \u001b[90m| \u001b[96mnode3 \u001b[90m| \u001b[92mINFO\u001b[0m\u001b[90m ]\u001b[0m 🧩 Model added (2/3) from ['node1']\n",
      "\u001b[90m[ \u001b[93m2025-07-12 01:06:38 \u001b[90m| \u001b[96mnode2 \u001b[90m| \u001b[92mINFO\u001b[0m\u001b[90m ]\u001b[0m Avoiding concurrent model sending to node3. Msg: partial_model | Hash: ['node2', 'node1']\n",
      "\u001b[90m[ \u001b[93m2025-07-12 01:06:38 \u001b[90m| \u001b[96mnode2 \u001b[90m| \u001b[92mINFO\u001b[0m\u001b[90m ]\u001b[0m 🧩 Model added (3/3) from ['node3']\n",
      "\u001b[90m[ \u001b[93m2025-07-12 01:06:42 \u001b[90m| \u001b[96mnode3 \u001b[90m| \u001b[92mINFO\u001b[0m\u001b[90m ]\u001b[0m 🧩 Model added (3/3) from ['node2']\n",
      "\u001b[90m[ \u001b[93m2025-07-12 01:06:42 \u001b[90m| \u001b[96mnode3 \u001b[90m| \u001b[92mINFO\u001b[0m\u001b[90m ]\u001b[0m 🤫 Gossip finished.\n",
      "\u001b[90m[ \u001b[93m2025-07-12 01:06:42 \u001b[90m| \u001b[96mnode3 \u001b[90m| \u001b[92mINFO\u001b[0m\u001b[90m ]\u001b[0m 🧠 Aggregating models.\n",
      "\u001b[90m[ \u001b[93m2025-07-12 01:06:42 \u001b[90m| \u001b[96mnode1 \u001b[90m| \u001b[92mINFO\u001b[0m\u001b[90m ]\u001b[0m 🤫 Gossip finished.\n",
      "\u001b[90m[ \u001b[93m2025-07-12 01:06:42 \u001b[90m| \u001b[96mnode1 \u001b[90m| \u001b[92mINFO\u001b[0m\u001b[90m ]\u001b[0m 🧠 Aggregating models.\n",
      "\u001b[90m[ \u001b[93m2025-07-12 01:06:43 \u001b[90m| \u001b[96mnode3 \u001b[90m| \u001b[92mINFO\u001b[0m\u001b[90m ]\u001b[0m 🗣️ Gossiping aggregated model.\n",
      "\u001b[90m[ \u001b[93m2025-07-12 01:06:43 \u001b[90m| \u001b[96mnode3 \u001b[90m| \u001b[92mINFO\u001b[0m\u001b[90m ]\u001b[0m Avoiding concurrent model sending to node1. Msg: add_model | Hash: ['0']\n",
      "\u001b[90m[ \u001b[93m2025-07-12 01:06:43 \u001b[90m| \u001b[96mnode3 \u001b[90m| \u001b[92mINFO\u001b[0m\u001b[90m ]\u001b[0m Avoiding concurrent model sending to node2. Msg: add_model | Hash: ['0']\n",
      "\u001b[90m[ \u001b[93m2025-07-12 01:06:43 \u001b[90m| \u001b[96mnode1 \u001b[90m| \u001b[92mINFO\u001b[0m\u001b[90m ]\u001b[0m 🗣️ Gossiping aggregated model.\n",
      "\u001b[90m[ \u001b[93m2025-07-12 01:06:43 \u001b[90m| \u001b[96mnode1 \u001b[90m| \u001b[92mINFO\u001b[0m\u001b[90m ]\u001b[0m Avoiding concurrent model sending to node2. Msg: add_model | Hash: ['0']\n",
      "\u001b[90m[ \u001b[93m2025-07-12 01:06:44 \u001b[90m| \u001b[96mnode2 \u001b[90m| \u001b[92mINFO\u001b[0m\u001b[90m ]\u001b[0m 🤫 Gossip finished.\n",
      "\u001b[90m[ \u001b[93m2025-07-12 01:06:44 \u001b[90m| \u001b[96mnode2 \u001b[90m| \u001b[92mINFO\u001b[0m\u001b[90m ]\u001b[0m 🧠 Aggregating models.\n",
      "\u001b[90m[ \u001b[93m2025-07-12 01:06:44 \u001b[90m| \u001b[96mnode2 \u001b[90m| \u001b[92mINFO\u001b[0m\u001b[90m ]\u001b[0m 🗣️ Gossiping aggregated model.\n",
      "\u001b[90m[ \u001b[93m2025-07-12 01:06:44 \u001b[90m| \u001b[96mnode2 \u001b[90m| \u001b[92mINFO\u001b[0m\u001b[90m ]\u001b[0m 🤫 Gossip finished.\n",
      "\u001b[90m[ \u001b[93m2025-07-12 01:06:44 \u001b[90m| \u001b[96mnode2 \u001b[90m| \u001b[92mINFO\u001b[0m\u001b[90m ]\u001b[0m 🎉 Round 1 of 1 finished.\n",
      "\u001b[90m[ \u001b[93m2025-07-12 01:06:44 \u001b[90m| \u001b[96mnode2 \u001b[90m| \u001b[92mINFO\u001b[0m\u001b[90m ]\u001b[0m 🔬 Evaluating...\n",
      "\u001b[90m[ \u001b[93m2025-07-12 01:06:45 \u001b[90m| \u001b[96mnode3 \u001b[90m| \u001b[92mINFO\u001b[0m\u001b[90m ]\u001b[0m 🤫 Gossip finished.\n",
      "\u001b[90m[ \u001b[93m2025-07-12 01:06:45 \u001b[90m| \u001b[96mnode3 \u001b[90m| \u001b[92mINFO\u001b[0m\u001b[90m ]\u001b[0m 🎉 Round 1 of 1 finished.\n",
      "\u001b[90m[ \u001b[93m2025-07-12 01:06:45 \u001b[90m| \u001b[96mnode3 \u001b[90m| \u001b[92mINFO\u001b[0m\u001b[90m ]\u001b[0m 🔬 Evaluating...\n",
      "\u001b[90m[ \u001b[93m2025-07-12 01:06:45 \u001b[90m| \u001b[96mnode1 \u001b[90m| \u001b[92mINFO\u001b[0m\u001b[90m ]\u001b[0m 🤫 Gossip finished.\n",
      "\u001b[90m[ \u001b[93m2025-07-12 01:06:45 \u001b[90m| \u001b[96mnode1 \u001b[90m| \u001b[92mINFO\u001b[0m\u001b[90m ]\u001b[0m 🎉 Round 1 of 1 finished.\n",
      "\u001b[90m[ \u001b[93m2025-07-12 01:06:45 \u001b[90m| \u001b[96mnode1 \u001b[90m| \u001b[92mINFO\u001b[0m\u001b[90m ]\u001b[0m 🔬 Evaluating...\n",
      "\u001b[90m[ \u001b[93m2025-07-12 01:06:48 \u001b[90m| \u001b[96mnode2 \u001b[90m| \u001b[92mINFO\u001b[0m\u001b[90m ]\u001b[0m 📈 Evaluated. Results: {'loss': 1.4813024997711182, 'compile_metrics': 0.811281144618988}\n",
      "\u001b[90m[ \u001b[93m2025-07-12 01:06:48 \u001b[90m| \u001b[96mnode2 \u001b[90m| \u001b[92mINFO\u001b[0m\u001b[90m ]\u001b[0m 📢 Broadcasting metrics.\n",
      "\u001b[90m[ \u001b[93m2025-07-12 01:06:48 \u001b[90m| \u001b[96mnode2 \u001b[90m| \u001b[92mINFO\u001b[0m\u001b[90m ]\u001b[0m 😋 Training finished!!\n",
      "\u001b[90m[ \u001b[93m2025-07-12 01:06:48 \u001b[90m| \u001b[96mnode3 \u001b[90m| \u001b[92mINFO\u001b[0m\u001b[90m ]\u001b[0m 📈 Evaluated. Results: {'loss': 1.4415814876556396, 'compile_metrics': 0.8196819424629211}\n",
      "\u001b[90m[ \u001b[93m2025-07-12 01:06:48 \u001b[90m| \u001b[96mnode3 \u001b[90m| \u001b[92mINFO\u001b[0m\u001b[90m ]\u001b[0m 📢 Broadcasting metrics.\n",
      "\u001b[90m[ \u001b[93m2025-07-12 01:06:48 \u001b[90m| \u001b[96mnode3 \u001b[90m| \u001b[92mINFO\u001b[0m\u001b[90m ]\u001b[0m 😋 Training finished!!\n",
      "\u001b[90m[ \u001b[93m2025-07-12 01:06:48 \u001b[90m| \u001b[96mnode1 \u001b[90m| \u001b[92mINFO\u001b[0m\u001b[90m ]\u001b[0m 📈 Evaluated. Results: {'loss': 1.468801498413086, 'compile_metrics': 0.8209357857704163}\n",
      "\u001b[90m[ \u001b[93m2025-07-12 01:06:48 \u001b[90m| \u001b[96mnode1 \u001b[90m| \u001b[92mINFO\u001b[0m\u001b[90m ]\u001b[0m 📢 Broadcasting metrics.\n",
      "\u001b[90m[ \u001b[93m2025-07-12 01:06:48 \u001b[90m| \u001b[96mnode1 \u001b[90m| \u001b[92mINFO\u001b[0m\u001b[90m ]\u001b[0m 😋 Training finished!!\n",
      "\u001b[90m[ \u001b[93m2025-07-12 01:06:49 \u001b[90m| \u001b[96mnode1 \u001b[90m| \u001b[92mINFO\u001b[0m\u001b[90m ]\u001b[0m Stopping node...\n",
      "\u001b[90m[ \u001b[93m2025-07-12 01:06:49 \u001b[90m| \u001b[96mnode1 \u001b[90m| \u001b[92mINFO\u001b[0m\u001b[90m ]\u001b[0m 🛑 Stopping gossiper...\n",
      "\u001b[90m[ \u001b[93m2025-07-12 01:06:49 \u001b[90m| \u001b[96mnode1 \u001b[90m| \u001b[92mINFO\u001b[0m\u001b[90m ]\u001b[0m InMemoryServer stopped at node1\n",
      "\u001b[90m[ \u001b[93m2025-07-12 01:06:49 \u001b[90m| \u001b[96mnode2 \u001b[90m| \u001b[92mINFO\u001b[0m\u001b[90m ]\u001b[0m Stopping node...\n",
      "\u001b[90m[ \u001b[93m2025-07-12 01:06:49 \u001b[90m| \u001b[96mnode2 \u001b[90m| \u001b[92mINFO\u001b[0m\u001b[90m ]\u001b[0m 🛑 Stopping gossiper...\n",
      "\u001b[90m[ \u001b[93m2025-07-12 01:06:49 \u001b[90m| \u001b[96mnode2 \u001b[90m| \u001b[92mINFO\u001b[0m\u001b[90m ]\u001b[0m InMemoryServer stopped at node2\n",
      "\u001b[90m[ \u001b[93m2025-07-12 01:06:49 \u001b[90m| \u001b[96mnode3 \u001b[90m| \u001b[92mINFO\u001b[0m\u001b[90m ]\u001b[0m Stopping node...\n",
      "\u001b[90m[ \u001b[93m2025-07-12 01:06:49 \u001b[90m| \u001b[96mnode3 \u001b[90m| \u001b[92mINFO\u001b[0m\u001b[90m ]\u001b[0m 🛑 Stopping gossiper...\n",
      "\u001b[90m[ \u001b[93m2025-07-12 01:06:49 \u001b[90m| \u001b[96mnode3 \u001b[90m| \u001b[92mINFO\u001b[0m\u001b[90m ]\u001b[0m InMemoryServer stopped at node3\n"
     ]
    },
    {
     "name": "stdout",
     "output_type": "stream",
     "text": [
      "✅ Training finished\n"
     ]
    }
   ],
   "source": [
    "from p2pfl.utils.utils import wait_to_finish, wait_convergence, set_standalone_settings\n",
    "\n",
    "set_standalone_settings()\n",
    "reset_p2pfl() # ignore this: helper to run on a notebook\n",
    "\n",
    "# >> Generate partitions for 3 nodes with a Random IID strategy\n",
    "partitions = dataset.generate_partitions(num_partitions=3, strategy=RandomIIDPartitionStrategy)\n",
    "\n",
    "# >> Create and start the nodes for the partitions\n",
    "nodes = []\n",
    "for i, part in enumerate(partitions):\n",
    "    model_i = KerasModel(SimpleMLP())\n",
    "    node = Node(model=model_i,\n",
    "                data=part,\n",
    "                protocol=MemoryCommunicationProtocol(),\n",
    "                addr=f\"node{i+1}\",\n",
    "                aggregator=FedAvg())\n",
    "    node.start()\n",
    "    nodes.append(node)\n",
    "\n",
    "# >> Connect nodes using a RING topology\n",
    "ring = TopologyFactory.generate_matrix(\n",
    "    topology_type=TopologyType.RING,\n",
    "    num_nodes=3)\n",
    "TopologyFactory.connect_nodes(ring, nodes)\n",
    "\n",
    "# >> Wait until nodes have discovered at least 2 other nodes or 1min timeout reached\n",
    "wait_convergence(nodes, n_neis=2, only_direct=False, wait=60)\n",
    "\n",
    "# >> First node starts the training process\n",
    "nodes[0].set_start_learning(rounds=1, epochs=1)\n",
    "wait_to_finish(nodes, timeout=900)\n",
    "print(\"✅ Training finished\")\n",
    "\n",
    "for n in nodes: # Stop the nodes\n",
    "    n.stop()"
   ]
  },
  {
   "cell_type": "markdown",
   "id": "89428646",
   "metadata": {},
   "source": [
    "# <h2 style=\"text-align:center; font-size:2em; margin-top:1em;\">6. 📊 Inspecting Local Metrics</h2>\n"
   ]
  },
  {
   "cell_type": "markdown",
   "id": "800c715f",
   "metadata": {},
   "source": [
    "After training, you might want to **evaluate each node individually** to see how well each local model performs on its partition (or the global test set, if available)."
   ]
  },
  {
   "cell_type": "markdown",
   "id": "5fb18562",
   "metadata": {},
   "source": [
    "For example, you can evaluate all nodes using the learner's `evaluate` function, that will return a dictionary with metrics such as loss and accuracy, depending on your model and framework."
   ]
  },
  {
   "cell_type": "code",
   "execution_count": 18,
   "metadata": {},
   "outputs": [
    {
     "name": "stderr",
     "output_type": "stream",
     "text": [
      "/home/kirle/.cache/pypoetry/virtualenvs/p2pfl-C2Oq_tWy-py3.12/lib/python3.12/site-packages/datasets/arrow_dataset.py:399: FutureWarning: The output of `to_tf_dataset` will change when a passing single element list for `labels` or `columns` in the next datasets version. To return a tuple structure rather than dict, pass a single string.\n",
      "Old behaviour: columns=['a'], labels=['labels'] -> (tf.Tensor, tf.Tensor)  \n",
      "             : columns='a', labels='labels' -> (tf.Tensor, tf.Tensor)  \n",
      "New behaviour: columns=['a'],labels=['labels'] -> ({'a': tf.Tensor}, {'labels': tf.Tensor})  \n",
      "             : columns='a', labels='labels' -> (tf.Tensor, tf.Tensor) \n",
      "  warnings.warn(\n"
     ]
    },
    {
     "name": "stdout",
     "output_type": "stream",
     "text": [
      "Node 0: {'loss': 1.468801498413086, 'compile_metrics': 0.8209357857704163}\n",
      "Node 1: {'loss': 1.4813024997711182, 'compile_metrics': 0.811281144618988}\n",
      "Node 2: {'loss': 1.4415814876556396, 'compile_metrics': 0.8196819424629211}\n"
     ]
    }
   ],
   "source": [
    "for i, node in enumerate(nodes):\n",
    "    metric = node.learner.evaluate()\n",
    "    print(f\"Node {i}: {metric}\")"
   ]
  },
  {
   "cell_type": "markdown",
   "id": "30aa5f90",
   "metadata": {},
   "source": [
    "But for getting more fine-grained control, `P2PFL` tracks local and global metrics during training. You can access logs through the global logger object:\n",
    "- `logger.get_local_logs()` : Returns metrics recorded by each node at every epoch\n",
    "- `logger.get_global_logs()`: Returns aggregated metrics per round (if available)"
   ]
  },
  {
   "cell_type": "code",
   "execution_count": 28,
   "id": "995dea6b",
   "metadata": {},
   "outputs": [],
   "source": [
    "local_logs = logger.get_local_logs()\n",
    "# local_logs"
   ]
  },
  {
   "cell_type": "markdown",
   "id": "ef3b7cae",
   "metadata": {},
   "source": [
    "And use them after training:"
   ]
  },
  {
   "cell_type": "code",
   "execution_count": 29,
   "id": "3ecf9e1d",
   "metadata": {},
   "outputs": [
    {
     "data": {
      "image/png": "[encoded data removed]",
      "text/plain": [
       "<Figure size 640x480 with 1 Axes>"
      ]
     },
     "metadata": {},
     "output_type": "display_data"
    }
   ],
   "source": [
    "import matplotlib.pyplot as plt\n",
    "\n",
    "for exp_name, rounds in local_logs.items():\n",
    "    for round_num, nodes_metrics in rounds.items():\n",
    "        for node_name, metrics in nodes_metrics.items():\n",
    "            for metric, values in metrics.items():\n",
    "                if \"acc\" in metric.lower():\n",
    "                    x, y = zip(*values)\n",
    "                    plt.plot(x, y, label=f\"{node_name} (round {round_num})\")\n",
    "\n",
    "plt.xlabel(\"Epoch\")\n",
    "plt.ylabel(\"Accuracy\")\n",
    "plt.legend()\n",
    "plt.title(\"Node Accuracies during Training\")\n",
    "plt.show()"
   ]
  },
  {
   "cell_type": "markdown",
   "id": "7bc68fca",
   "metadata": {},
   "source": [
    "# <h2 style=\"text-align:center; font-size:2em; margin-top:1em;\"> 7. 🔧 Configuring your experiments</h2>\n"
   ]
  },
  {
   "cell_type": "markdown",
   "id": "ba9f4365",
   "metadata": {},
   "source": [
    "# "
   ]
  },
  {
   "cell_type": "markdown",
   "metadata": {},
   "source": [
    "You can have a more fine-grained control over the `p2pfl`behavior through the global `Settings` object. This object allows you to adjust timeouts, logging levels, and protocol-specific parameters."
   ]
  },
  {
   "cell_type": "code",
   "execution_count": null,
   "metadata": {},
   "outputs": [],
   "source": [
    "from p2pfl.settings import Settings"
   ]
  },
  {
   "cell_type": "markdown",
   "metadata": {},
   "source": [
    "The settings are grouped into categories. \n",
    "\n",
    "- **General:**  : System settings like random seed, logging, and global timeouts.\n",
    "- **Heartbeat:** : Parameters for node health checks and failure detection.\n",
    "- **Gossip:** : Gossip protocol settings, including message frequency, TTL, and model exchange.\n",
    "- **SSL:** : SSL/TLS certificate paths and options for secure communication.\n",
    "- **Training:** : Training-related options such as timeouts, batch size, and Ray pool size."
   ]
  },
  {
   "cell_type": "markdown",
   "metadata": {},
   "source": [
    "Let's inspect the default `training` settings."
   ]
  },
  {
   "cell_type": "code",
   "execution_count": null,
   "metadata": {},
   "outputs": [],
   "source": [
    "training_settings = Settings.training\n",
    "\n",
    "print(\"--- Default Training Settings ---\")\n",
    "for setting, value in training_settings.__dict__.items():\n",
    "    print(f\"{setting}: {value}\")"
   ]
  },
  {
   "cell_type": "markdown",
   "metadata": {},
   "source": [
    "Changing a setting is as simple as assigning a new value. For example, let's increase the timeout for how long a node waits to receive models from its peers during aggregation."
   ]
  },
  {
   "cell_type": "code",
   "execution_count": null,
   "metadata": {},
   "outputs": [],
   "source": [
    "Settings.training.AGGREGATION_TIMEOUT = 120\n",
    "print(f\"New aggregation timeout: {Settings.training.AGGREGATION_TIMEOUT}s\")"
   ]
  },
  {
   "cell_type": "markdown",
   "id": "4b05198e",
   "metadata": {},
   "source": [
    "# <h2 style=\"text-align:center; font-size:2em; margin-top:1em;\"> 8. 🧩 P2PFL Architecture</h2>\n"
   ]
  },
  {
   "cell_type": "markdown",
   "id": "4ddee4b0",
   "metadata": {},
   "source": [
    "<div align=\"center\">\n",
    "  <img src=\"../../other/architecture.png\" width=\"900\"/>\n",
    "</div>\n"
   ]
  },
  {
   "cell_type": "markdown",
   "id": "b412a00d",
   "metadata": {},
   "source": [
    "The `p2pfl` architecture is centered around the `Node` class and it's focused on being modular.\n",
    "You can easily swap core components like *aggregators*, *communication protocols* and *compression methods* to design your experiments."
   ]
  },
  {
   "cell_type": "markdown",
   "id": "7ea372f4",
   "metadata": {},
   "source": [
    "On this section we'll review some of the main components of the library. "
   ]
  },
  {
   "cell_type": "markdown",
   "id": "191fcea5",
   "metadata": {},
   "source": [
    "### Node Components"
   ]
  },
  {
   "cell_type": "markdown",
   "id": "f0ae60af",
   "metadata": {},
   "source": [
    "\n",
    "A `Node` in `p2pfl` is an autonomous entity with:\n",
    "\n",
    "- **Logger**: Records all important events, metrics, and debug info for that node.\n",
    "- **State**: Manages the current model weights, round number, neighbor list, and checkpoints for recovery.\n",
    "- **Learning**: Contains both the `Learner` (ML framework logic) and the `Dataset` (local data partition).\n",
    "    - **Learner**: Abstracts the ML backend. Supported: `PyTorch`, `TensorFlow`, `Flax`.\n",
    "        - *Example*:  \n",
    "            ```python\n",
    "            from p2pfl.ml import KerasModel\n",
    "            learner = KerasModel(model=my_keras_model)\n",
    "            ```\n",
    "    - **Dataset**: Each node holds its own local partition (e.g., a chunk of MNIST).\n",
    "\n",
    "    - **Aggregator**: Defines how to combine received models or gradients.\n",
    "- **Communication Protocol**: Handles network messaging between nodes.\n",
    "- **Commands**: Encapsulates the set of messages/actions that nodes can send/receive (e.g., model update, request metrics).\n",
    "- **Workflow**: The orchestration logic, specifying the training loop, round handling, and termination criteria.\n"
   ]
  },
  {
   "cell_type": "markdown",
   "id": "da173e88",
   "metadata": {},
   "source": [
    "### Aggregators\n",
    "\n",
    "The **aggregator** defines how models are combined. We've used `FedAvg` on our previous example, but many others are available on the library for different scenarios:\n",
    "- **For Non-IID Data**: `FedProx` and `Scaffold` are designed to improve stability and accuracy when data is not evenly distributed.\n",
    "- **For Security**: `Krum` and `FedMedian` are robust against outlier or malicious model updates.\n",
    "- **For Efficiency**: `FedAdagrad` and `FedYogi` are adaptive optimizers that can sometimes speed up convergence.\n"
   ]
  },
  {
   "cell_type": "markdown",
   "id": "12dc1f07",
   "metadata": {},
   "source": [
    "- *You simply pass a different aggregator class when creating your nodes:*\n",
    "    ```python\n",
    "    from p2pfl.aggregation import FedMedian\n",
    "    node = Node(..., aggregator=FedMedian())\n",
    "    ```\n"
   ]
  },
  {
   "cell_type": "markdown",
   "id": "5e0abf1a",
   "metadata": {},
   "source": [
    "### Communication Protocols\n",
    "\n",
    "The **protocol** handles the networking, how nodes talk with each other.\n",
    "- **`MemoryCommunicationProtocol`**: Perfect for single-machine simulations like this notebook.\n",
    "- **`GrpcCommunicationProtocol`**: A high-performance option for real-world experiments across multiple machines.\n",
    "\n"
   ]
  },
  {
   "cell_type": "markdown",
   "id": "a2be2b48",
   "metadata": {},
   "source": [
    "### Commands\n",
    "`p2pfl` uses a set of **structured internal commands** to manage communication between nodes. These commands ensure reliable, extendable, and clear message handling between nodes—not typically interacted with directly, but essential under the hood.\n",
    "\n",
    "\n",
    "| Category | Command class | Purpose (one-liner) |\n",
    "|----------|---------------|---------------------|\n",
    "| **Lifecycle** | `StartLearningCommand` | Kick off the learning workflow |\n",
    "|              | `StopLearningCommand`  | Gracefully halt all activity |\n",
    "| **Coordination** | `ModelInitializedCommand` | Signal that the initial model has been gossiped |\n",
    "|                 | `VoteTrainSetCommand`     | Vote which peers form the training set this round |\n",
    "|                 | `ModelsAggregatedCommand` | Notify peers when local aggregation finishes |\n",
    "|                 | `ModelsReadyCommand`      | Announce that the aggregated model is ready |\n",
    "| **Metrics**     | `MetricsCommand`          | Broadcast evaluation metrics |\n",
    "| **Weights / Data** | `InitModelCommand`     | Send the very first model parameters |\n",
    "|                   | `PartialModelCommand`  | Share *partial* (aggregated) weights |\n",
    "|                   | `FullModelCommand`     | Share a *full* model snapshot |\n",
    "| **Flow Control** | `PreSendModelCommand`   | Ask permission / avoid redundant transfers |\n",
    "\n"
   ]
  },
  {
   "cell_type": "markdown",
   "id": "d78597e9",
   "metadata": {},
   "source": [
    "### 🔄 Workflows"
   ]
  },
  {
   "cell_type": "markdown",
   "id": "b0103fc6",
   "metadata": {},
   "source": [
    "A **Workflow** is the orchestration engine that drives every node through a\n",
    "repeatable training-communication cycle.  Internally it is implemented as a\n",
    "*state-machine pipeline* made of **Stage** classes; each stage knows **when**\n",
    "to run, **what** to do, and **which stage** comes next."
   ]
  },
  {
   "cell_type": "markdown",
   "id": "95ce1b8f",
   "metadata": {},
   "source": [
    "**Default workflow:**\n",
    "\n",
    "| Order | Stage | What happens |\n",
    "|-------|-------|--------------|\n",
    "| 1 | **StartLearningStage** | The node waits until it has gossiped an initial model to all peers, then triggers the workflow. |\n",
    "| 2 | **VoteTrainSetStage** | Peers vote which subset will train this round (light-weight load balancing). |\n",
    "| 3a | **TrainStage** <br>(if _in_ the train set) | Local fitting + local aggregation; metrics are computed. |\n",
    "| 3b | **WaitAggregatedModelsStage** <br>(if _not_ in the train set) | Non-training nodes idle until they hear the final aggregated model for the round. |\n",
    "| 4 | **GossipModelStage** | The aggregated weights are pushed to every neighbour to keep the swarm in sync. |\n",
    "| 5 | **RoundFinishedStage** | Book-keeping: increment `round`, clear buffers, call user hooks. If more rounds remain it loops back to **VoteTrainSetStage**; otherwise, **StopLearningStage** (not shown) halts everything. |\n"
   ]
  },
  {
   "cell_type": "markdown",
   "id": "90f265ac",
   "metadata": {},
   "source": [
    "<div align=\"center\">\n",
    "  <img src=\"../../other/workflow.png\" width=\"1000\"/>\n",
    "</div>\n"
   ]
  },
  {
   "cell_type": "markdown",
   "id": "88d12411",
   "metadata": {},
   "source": [
    "# <h2 style=\"text-align:center; font-size:2em; margin-top:1em;\"> 9. ✔ Conclussions</h2>\n"
   ]
  },
  {
   "cell_type": "markdown",
   "id": "f9136c99",
   "metadata": {},
   "source": [
    "Now, after exploring the main features and workflow of the `p2pfl` library, you should now have a solid grasp of the building blocks needed to create and run your own peer-to-peer federated learning experiments."
   ]
  },
  {
   "cell_type": "markdown",
   "id": "56585c00",
   "metadata": {},
   "source": [
    "<div style=\"margin-top:18px; font-size:1.15em;\">\n",
    "  🚀 <b>Thank you for exploring P2PFL!</b> If you have questions, ideas, or want to contribute, check out the <a href=\"https://github.com/pguijas/p2pfl\" style=\"color:#248cff; text-decoration:underline;\"><b>P2PFL GitHub repository</b></a>.\n",
    "</div>\n"
   ]
  }
 ],
 "metadata": {
  "kernelspec": {
   "display_name": "p2pfl-kqHPkatk-py3.12",
   "language": "python",
   "name": "python3"
  },
  "language_info": {
   "codemirror_mode": {
    "name": "ipython",
    "version": 3
   },
   "file_extension": ".py",
   "mimetype": "text/x-python",
   "name": "python",
   "nbconvert_exporter": "python",
   "pygments_lexer": "ipython3",
   "version": "3.12.3"
  }
 },
 "nbformat": 4,
 "nbformat_minor": 5
}
